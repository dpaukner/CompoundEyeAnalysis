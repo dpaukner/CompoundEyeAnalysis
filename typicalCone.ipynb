{
 "cells": [
  {
   "cell_type": "code",
   "execution_count": 2,
   "id": "4bc9b9a6",
   "metadata": {},
   "outputs": [
    {
     "name": "stderr",
     "output_type": "stream",
     "text": [
      "C:\\Users\\dawnp\\anaconda3\\Lib\\site-packages\\paramiko\\transport.py:219: CryptographyDeprecationWarning: Blowfish has been deprecated\n",
      "  \"class\": algorithms.Blowfish,\n"
     ]
    }
   ],
   "source": [
    "import h5py\n",
    "import numpy as np\n",
    "from tqdm import notebook\n",
    "import matplotlib.pyplot as plt\n",
    "from sklearn.decomposition import PCA\n",
    "from skimage.transform import rescale,resize\n",
    "from skimage import morphology\n",
    "import math \n",
    "import os \n",
    "from PIL import Image\n",
    "from mpl_toolkits.mplot3d import Axes3D\n",
    "from pylab import *\n",
    "from sklearn.cluster import KMeans, SpectralClustering\n",
    "from sklearn.neighbors import NearestNeighbors\n",
    "from collections import defaultdict\n",
    "import pickle\n",
    "import scipy.io as sio"
   ]
  },
  {
   "cell_type": "code",
   "execution_count": 3,
   "id": "754c7c62",
   "metadata": {},
   "outputs": [],
   "source": [
    "os.chdir('C:/Users/dawnp/Documents/UChicago/PalmerKasthuriLab/NocturnalDiurnal11_2021/') #Set directory for project"
   ]
  },
  {
   "cell_type": "code",
   "execution_count": 4,
   "id": "3042c356",
   "metadata": {},
   "outputs": [],
   "source": [
    "f_name = './ConePoints/conePointsygw13cc.mat' #Set file of individual you want to create typical cone for from ConePoints folder\n",
    "all_mat = sio.loadmat(f_name)\n",
    "\n",
    "pc_dict = defaultdict(list)\n",
    "\n",
    "x_pc = all_mat['labels_xvals']\n",
    "y_pc = all_mat['labels_yvals']\n",
    "z_pc = all_mat['labels_zvals']\n",
    "\n",
    "for i in np.arange(1, x_pc.shape[1]+1):\n",
    "    total = np.transpose([x_pc[0,i-1], y_pc[0,i-1], z_pc[0,i-1]])[0,:,:]\n",
    "    pc_dict[i] = total"
   ]
  },
  {
   "cell_type": "code",
   "execution_count": 5,
   "id": "8355f3bc",
   "metadata": {},
   "outputs": [],
   "source": [
    "px_to_nm = 600 #Define pixel resolution in nanometers"
   ]
  },
  {
   "cell_type": "code",
   "execution_count": 6,
   "id": "764c8920",
   "metadata": {},
   "outputs": [
    {
     "data": {
      "application/vnd.jupyter.widget-view+json": {
       "model_id": "123f41c7a6b34e4fb5905bd623b03a48",
       "version_major": 2,
       "version_minor": 0
      },
      "text/plain": [
       "  0%|          | 0/671 [00:00<?, ?it/s]"
      ]
     },
     "metadata": {},
     "output_type": "display_data"
    }
   ],
   "source": [
    "all_PCAs = defaultdict(list)\n",
    "all_diams = defaultdict(list)\n",
    "all_centroids = defaultdict(list)\n",
    "all_first_PCs = defaultdict(list)\n",
    "bad_label = []\n",
    "all_norm_locs = defaultdict(list)\n",
    "pc_norm_dict = defaultdict(list)\n",
    "global_pointcloud = defaultdict(list)\n",
    "sample_width = 5\n",
    "# pragma omp parallel for\n",
    "for item in notebook.tqdm(pc_dict.keys()):\n",
    "    point_cloud = []\n",
    "    test_coord = pc_dict[item]                               # Gets all the locations for the current label\n",
    "    norm_coord = test_coord - np.mean(test_coord, axis=0)    # Normalizes all the coordinates so the centroid is at 0,0,0. Key step for this PCA hack\n",
    "    \n",
    "    try:\n",
    "        pc_norm_dict[item] = (norm_coord) \n",
    "        sparse_norm_coord = norm_coord[::sample_width,:]     # This samples every sample_width locations. This makes this process IMPERFECT but FASTER. Lower sample_width will be more precise, higher will be faster\n",
    "        pca = PCA(n_components=3)                            # Don't do less than 3, and there's really no reason to do more than 3        \n",
    "        pca.fit(sparse_norm_coord)\n",
    "        \n",
    "        [uall,vall,wall]=pca.components_\n",
    "        \n",
    "        for i in norm_coord:\n",
    "            i = i - np.dot(uall,i)*uall\n",
    "            point_cloud.append(i) \n",
    "      \n",
    "    \n",
    "        flat_rep = []\n",
    "        \n",
    "        for i in point_cloud:\n",
    "            (x,y) = (np.dot(vall,i), np.dot(wall,i))        # Honestly don't remember what this does. Wrote it in a fevered rush inspired by Philz's Tesora blend.\n",
    "            flat_rep.append((x,y))\n",
    "            \n",
    "        flat_rep=np.asarray(flat_rep)\n",
    "       \n",
    "        dist_list = np.sort(list(\n",
    "            map(lambda x: \n",
    "            np.linalg.norm((0,0) - x) , flat_rep)))         # Determines distance for all points in flattened cone)\n",
    "\n",
    "        \n",
    "        all_PCAs[item].append(pca.components_)\n",
    "        all_centroids[item].append(np.mean(test_coord, axis=0))\n",
    "        all_first_PCs[item].append(uall)\n",
    "        all_norm_locs[item].append(norm_coord[:])\n",
    "        test_coord = np.asarray(test_coord)\n",
    "        global_pointcloud[item].append(test_coord)\n",
    "\n",
    "    except:\n",
    "#         print(\"BREAKS ON THIS LABEL: \" + str(item))\n",
    "        bad_label.append(item)\n"
   ]
  },
  {
   "cell_type": "markdown",
   "id": "a93f1d29",
   "metadata": {},
   "source": [
    "The argument here is that if we are to simulate light through the cones, the best way to do it is not with one or two selected cones recreated by hand, but a platonic cone created by a sort of mode-like analysis of the other cones. I here take normalized (meaning the centroid is at 0,0,0) point cloud for each sample, rotate them so they are facing the same direction, then heatmap the different points (by heatmap I mean attach to each point a number value saying how often that point shows up in all of the normalized point clouds). This then plots the points that are above a certain occurrence value and saves the pointcloud above that threshold into a 3D HDF5. Also has saving and loading functionality b/c the process of heatmapping all the points can take a while."
   ]
  },
  {
   "cell_type": "code",
   "execution_count": 7,
   "id": "afd3494c",
   "metadata": {},
   "outputs": [],
   "source": [
    "full_norm_dict = defaultdict(list)\n",
    "full_norm_list = []\n",
    "for i in pc_norm_dict.keys():\n",
    "   \n",
    "    all_vecs = np.asarray(all_PCAs[i])\n",
    "    if np.size(all_vecs) > 1:\n",
    "\n",
    "        og_pc = np.transpose(np.asarray(pc_norm_dict[i]))\n",
    "        inv_PCs =np.linalg.inv(np.transpose(all_vecs[0,:,:]))\n",
    "        new_pc = np.floor(np.matmul(inv_PCs,og_pc))\n",
    "        full_norm_dict[i]=np.transpose(new_pc)\n",
    "        np.append(full_norm_list, np.transpose(new_pc))\n",
    "\n",
    "        \n",
    "full_norm_list=np.asarray(full_norm_list)"
   ]
  },
  {
   "cell_type": "code",
   "execution_count": 8,
   "id": "bee7a721",
   "metadata": {},
   "outputs": [],
   "source": [
    "#calculates cone ratio\n",
    "bottomWidths=[]\n",
    "topWidths=[]\n",
    "bottom10s=[]\n",
    "coneRatios=[]\n",
    "for ii in full_norm_dict:\n",
    "    x=full_norm_dict[ii][:,0]\n",
    "    y=full_norm_dict[ii][:,1]\n",
    "    z=full_norm_dict[ii][:,2]\n",
    "    topWidthY=np.max(y)-np.min(y)\n",
    "    topWidthZ=np.max(z)-np.min(z)\n",
    "    topWidth=(topWidthY+topWidthZ)/2\n",
    "    topWidths.append(topWidth)\n",
    "    try:\n",
    "        bottom10=np.max(x)-np.floor(0.1*(np.max(x)-np.min(x)))\n",
    "        loc = (x==bottom10)\n",
    "        bottomWidthY=np.max(y[loc])-np.min(y[loc])\n",
    "        bottomWidthZ=np.max(z[loc])-np.min(z[loc])\n",
    "        bottomWidth=(bottomWidthY+bottomWidthZ)/2\n",
    "    except:\n",
    "        bottom10=np.nan\n",
    "        bottomWidth=np.nan\n",
    "    bottom10s.append(bottom10)\n",
    "    bottomWidths.append(bottomWidth)\n",
    "    coneRatio=bottomWidth/topWidth\n",
    "    coneRatios.append(coneRatio)"
   ]
  },
  {
   "cell_type": "code",
   "execution_count": null,
   "id": "dramatic-rings",
   "metadata": {},
   "outputs": [],
   "source": [
    "#saves coneRatios, topWidths, and bottomWidths\n",
    "crDict={\"coneRatios\":coneRatios,\"topWidths\":topWidths, \"bottomWidths\":bottomWidths}\n",
    "\n",
    "from scipy.io import savemat\n",
    "savemat(\"Measurements/ygw13ccConeRatios.mat\",crDict)"
   ]
  },
  {
   "cell_type": "code",
   "execution_count": 9,
   "id": "chief-auditor",
   "metadata": {},
   "outputs": [
    {
     "data": {
      "text/plain": [
       "Text(0.5, 0, 'x')"
      ]
     },
     "execution_count": 9,
     "metadata": {},
     "output_type": "execute_result"
    },
    {
     "data": {
      "image/png": "[encoded data removed]",
      "text/plain": [
       "<Figure size 640x480 with 1 Axes>"
      ]
     },
     "metadata": {},
     "output_type": "display_data"
    }
   ],
   "source": [
    "#plots an example cone from the eye\n",
    "x0=full_norm_dict[200][:,0]\n",
    "y0=full_norm_dict[200][:,1]\n",
    "z0=full_norm_dict[200][:,2]\n",
    "\n",
    "fig = plt.figure()\n",
    "ax = fig.add_subplot(projection='3d')\n",
    "ax.scatter(x0,y0,z0)\n",
    "ax.set_xlabel(\"x\")"
   ]
  },
  {
   "cell_type": "code",
   "execution_count": 10,
   "id": "37e15027",
   "metadata": {},
   "outputs": [
    {
     "data": {
      "application/vnd.jupyter.widget-view+json": {
       "model_id": "040c12f5cbeb4eb3985d6ee9bdf3869e",
       "version_major": 2,
       "version_minor": 0
      },
      "text/plain": [
       "  0%|          | 0/671 [00:00<?, ?it/s]"
      ]
     },
     "metadata": {},
     "output_type": "display_data"
    }
   ],
   "source": [
    "#plots heat map of a typical cone (without a threshold)\n",
    "x_range = [np.min(new_pc[:,0]), np.max(new_pc[:,0])]\n",
    "y_range = [np.min(new_pc[:,1]), np.max(new_pc[:,1])]\n",
    "z_range = [np.min(new_pc[:,2]), np.max(new_pc[:,2])]\n",
    "\n",
    "loc_heat_map = defaultdict(uint16)\n",
    "                \n",
    "for i in notebook.tqdm(full_norm_dict.keys()):\n",
    "    comp = full_norm_dict[i]\n",
    "    for loc in comp:\n",
    "        loc_heat_map[str(loc)]+=1"
   ]
  },
  {
   "cell_type": "code",
   "execution_count": null,
   "id": "7c1ba5be",
   "metadata": {},
   "outputs": [],
   "source": [
    "n_loc_heat = loc_heat_map.copy()\n",
    "plot_locs = []\n",
    "all_vals = np.asarray(list(n_loc_heat.values()))\n",
    "print(all_vals.shape)\n",
    "coloro = 0\n",
    "limit = len(all_centroids)*.25 #set custom threshold such that any point that is included in at least 25% of all cones is kept\n",
    "\n",
    "for i in notebook.tqdm(loc_heat_map.keys()):\n",
    "    if all_vals[coloro]>limit:\n",
    "        chunks = i[1:-1].strip().split('.')\n",
    "        try:\n",
    "            plot_locs.append([int(chunks[0]),int(chunks[1]),int(chunks[2])])\n",
    "        except:\n",
    "            plot_locs.append([0,0,0])\n",
    "    else:\n",
    "        n_loc_heat.pop(i)\n",
    "        all_vals[coloro]=0\n",
    "    coloro+=1\n",
    "\n",
    "all_vals = np.asarray(list(n_loc_heat.values()))\n",
    "\n",
    "fig = plt.figure()\n",
    "ax = fig.add_subplot(projection='3d')\n",
    "colors = cm.jet(all_vals/np.max(all_vals))\n",
    "colmap = cm.ScalarMappable(cmap=cm.jet)\n",
    "colmap.set_array(all_vals)\n",
    "cb = fig.colorbar(colmap)\n",
    "ax.set_xlim(-60,60)\n",
    "ax.set_ylim(-60,60)\n",
    "ax.set_zlim(-60,60)\n",
    "plot_locs=np.asarray(plot_locs)\n",
    "ax.set_title('Points that occur '+str(limit)+' times or more')\n",
    "ax.scatter(plot_locs[:,0], plot_locs[:,1], plot_locs[:,2], c=colors)\n",
    "print(plot_locs.shape)"
   ]
  },
  {
   "cell_type": "code",
   "execution_count": null,
   "id": "66e26b97",
   "metadata": {},
   "outputs": [],
   "source": [
    "x_min = np.min(plot_locs[:,0])\n",
    "y_min = np.min(plot_locs[:,1])\n",
    "z_min = np.min(plot_locs[:,2])\n",
    "\n",
    "trans_locs = plot_locs\n",
    "\n",
    "trans_locs[:,0]-=x_min\n",
    "trans_locs[:,1]-=y_min\n",
    "trans_locs[:,2]-=z_min\n",
    "\n",
    "fig = plt.figure()\n",
    "ax = fig.add_subplot(projection='3d')\n",
    "ax.set_xlim(0,50)\n",
    "ax.set_ylim(0,50)\n",
    "ax.set_zlim(0,50)\n",
    "ax.set_title('Points that occur '+str(limit)+' times or more')\n",
    "ax.scatter(trans_locs[:,0], trans_locs[:,1], trans_locs[:,2])\n",
    "print(plot_locs.shape)"
   ]
  },
  {
   "cell_type": "code",
   "execution_count": null,
   "id": "d2f0e0f6",
   "metadata": {},
   "outputs": [],
   "source": [
    "x_max = np.max(trans_locs[:,0])\n",
    "y_max = np.max(trans_locs[:,1])\n",
    "z_max = np.max(trans_locs[:,2])\n",
    "\n",
    "platonic_cone_arr = np.zeros((x_max, y_max, z_max))\n",
    "print(platonic_cone_arr.shape)\n",
    "print(np.asarray(np.where(platonic_cone_arr==255)))\n",
    "# for [locx,locy,locz] in trans_locs[:,:]:\n",
    "for i in np.arange(trans_locs.shape[0]):\n",
    "    [locx,locy,locz] = trans_locs[i,:].astype(int)-1\n",
    "    platonic_cone_arr[locx,locy,locz]=255\n",
    "print(np.asarray(np.where(platonic_cone_arr==255)).shape)"
   ]
  },
  {
   "cell_type": "code",
   "execution_count": null,
   "id": "e2c056bb",
   "metadata": {},
   "outputs": [],
   "source": [
    "cone_f = h5py.File('./PlatonicCones/07CYDpcnewTEST.h5', 'w')\n",
    "d = cone_f.create_dataset('cone', data=trans_locs)\n",
    "cone_f.close()"
   ]
  }
 ],
 "metadata": {
  "kernelspec": {
   "display_name": "Python 3 (ipykernel)",
   "language": "python",
   "name": "python3"
  },
  "language_info": {
   "codemirror_mode": {
    "name": "ipython",
    "version": 3
   },
   "file_extension": ".py",
   "mimetype": "text/x-python",
   "name": "python",
   "nbconvert_exporter": "python",
   "pygments_lexer": "ipython3",
   "version": "3.11.4"
  }
 },
 "nbformat": 4,
 "nbformat_minor": 5
}
